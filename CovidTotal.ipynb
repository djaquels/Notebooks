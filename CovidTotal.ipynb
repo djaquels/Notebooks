{
 "cells": [
  {
   "cell_type": "code",
   "execution_count": 1,
   "metadata": {},
   "outputs": [],
   "source": [
    "# librerias auxiliares\n",
    "import JSON\n",
    "using Gadfly\n",
    "using HTTP\n",
    "Gadfly.push_theme(style(line_width=1mm))"
   ]
  },
  {
   "cell_type": "code",
   "execution_count": 2,
   "metadata": {},
   "outputs": [
    {
     "data": {
      "text/plain": [
       "HTTP.Messages.Response:\n",
       "\"\"\"\n",
       "HTTP/1.1 200 OK\r\n",
       "Server: nginx/1.14.0 (Ubuntu)\r\n",
       "Date: Tue, 07 Apr 2020 00:52:50 GMT\r\n",
       "Content-Type: application/json; charset=UTF-8\r\n",
       "Transfer-Encoding: chunked\r\n",
       "Connection: keep-alive\r\n",
       "Access-Control-Allow-Credentials: true\r\n",
       "Access-Control-Allow-Origin: \r\n",
       "Access-Control-Expose-Headers: Content-Length\r\n",
       "Strict-Transport-Security: max-age=5184000; includeSubDomains\r\n",
       "Vary: Origin, Accept-Encoding\r\n",
       "X-Content-Type-Options: nosniff\r\n",
       "X-Dns-Prefetch-Control: off\r\n",
       "X-Download-Options: noopen\r\n",
       "X-Frame-Options: DENY\r\n",
       "X-Rate-Limit-Duration: 1\r\n",
       "X-Rate-Limit-Limit: 5.00\r\n",
       "X-Rate-Limit-Request-Forwarded-For: \r\n",
       "X-Rate-Limit-Request-Remote-Addr: 127.0.0.1:55516\r\n",
       "X-Request-Id: 2c624252-0775-4a7d-8b55-af67ab316ab1\r\n",
       "X-Xss-Protection: 1; mode=block\r\n",
       "\r\n",
       "[{\"Country\":\"China\",\"CountryCode\":\"\",\"Lat\":\"0\",\"Lon\":\"0\",\"Cases\":548,\"Status\":\"confirmed\",\"Date\":\"2020-01-22T00:00:00Z\"},{\"Country\":\"China\",\"CountryCode\":\"\",\"Lat\":\"0\",\"Lon\":\"0\",\"Cases\":643,\"Status\":\"confirmed\",\"Date\":\"2020-01-23T00:00:00Z\"},{\"Country\":\"China\",\"CountryCode\":\"\",\"Lat\":\"0\",\"Lon\":\"0\",\"Cases\":920,\"Status\":\"confirmed\",\"Date\":\"2020-01-24T00:00:00Z\"},{\"Country\":\"China\",\"CountryCode\":\"\",\"Lat\":\"0\",\"Lon\":\"0\",\"Cases\":1406,\"Status\":\"confirmed\",\"Date\":\"2020-01-25T00:00:00Z\"},{\"Country\":\"China\",\"CountryCode\":\"\",\"Lat\":\"0\",\"Lon\":\"0\",\"Cases\":2075,\"Status\":\"confirmed\",\"Date\":\"2020-01-26T00:00:00Z\"},{\"Country\":\"China\",\"CountryCode\":\"\",\"Lat\":\"0\",\"Lon\":\"0\",\"Cases\":2877,\"Status\":\"confirmed\",\"Date\":\"2020-01-27T00:00:00Z\"},{\"Country\":\"China\",\"CountryCode\":\"\",\"Lat\":\"0\",\"Lon\":\"0\",\"Cases\":5509,\"Status\":\"confirmed\",\"Date\":\"2020-01-28T00:00:00Z\"},{\"Country\":\"China\",\"CountryCode\":\"\",\"Lat\":\"0\",\"Lon\":\"0\",\"Cases\":6087,\"Status\":\"confirmed\",\"Date\":\"2020-01-29T00:00:00Z\"},{\"Country\":\"China\",\"CountryCode\":\"\n",
       "⋮\n",
       "9261-byte body\n",
       "\"\"\""
      ]
     },
     "execution_count": 2,
     "metadata": {},
     "output_type": "execute_result"
    }
   ],
   "source": [
    "# llamada a API - Obtener datos\n",
    "rmex = HTTP.request(\"GET\",\"https://api.covid19api.com/total/dayone/country/mexico/status/confirmed\")\n",
    "rita = HTTP.request(\"GET\",\"https://api.covid19api.com/total/dayone/country/italy/status/confirmed\")\n",
    "rus = HTTP.request(\"GET\",\"https://api.covid19api.com/total/dayone/country/us/status/comfirmed\")\n",
    "rbra = HTTP.request(\"GET\",\"https://api.covid19api.com/total/dayone/country/brazil/status/confirmed\")\n",
    "rspa = HTTP.request(\"GET\",\"https://api.covid19api.com/total/dayone/country/spain/status/confirmed\")\n",
    "rkor = HTTP.request(\"GET\",\"https://api.covid19api.com/total/dayone/country/korea-south/status/confirmed\")\n",
    "rchi = HTTP.request(\"GET\",\"https://api.covid19api.com/total/dayone/country/china/status/confirmed\")\n"
   ]
  },
  {
   "cell_type": "code",
   "execution_count": 3,
   "metadata": {},
   "outputs": [
    {
     "data": {
      "text/plain": [
       "76-element Array{Any,1}:\n",
       " Dict{String,Any}(\"CountryCode\" => \"\",\"Lon\" => \"0\",\"Status\" => \"confirmed\",\"Lat\" => \"0\",\"Cases\" => 548,\"Date\" => \"2020-01-22T00:00:00Z\",\"Country\" => \"China\")\n",
       " Dict{String,Any}(\"CountryCode\" => \"\",\"Lon\" => \"0\",\"Status\" => \"confirmed\",\"Lat\" => \"0\",\"Cases\" => 643,\"Date\" => \"2020-01-23T00:00:00Z\",\"Country\" => \"China\")\n",
       " Dict{String,Any}(\"CountryCode\" => \"\",\"Lon\" => \"0\",\"Status\" => \"confirmed\",\"Lat\" => \"0\",\"Cases\" => 920,\"Date\" => \"2020-01-24T00:00:00Z\",\"Country\" => \"China\")\n",
       " Dict{String,Any}(\"CountryCode\" => \"\",\"Lon\" => \"0\",\"Status\" => \"confirmed\",\"Lat\" => \"0\",\"Cases\" => 1406,\"Date\" => \"2020-01-25T00:00:00Z\",\"Country\" => \"China\")\n",
       " Dict{String,Any}(\"CountryCode\" => \"\",\"Lon\" => \"0\",\"Status\" => \"confirmed\",\"Lat\" => \"0\",\"Cases\" => 2075,\"Date\" => \"2020-01-26T00:00:00Z\",\"Country\" => \"China\")\n",
       " Dict{String,Any}(\"CountryCode\" => \"\",\"Lon\" => \"0\",\"Status\" => \"confirmed\",\"Lat\" => \"0\",\"Cases\" => 2877,\"Date\" => \"2020-01-27T00:00:00Z\",\"Country\" => \"China\")\n",
       " Dict{String,Any}(\"CountryCode\" => \"\",\"Lon\" => \"0\",\"Status\" => \"confirmed\",\"Lat\" => \"0\",\"Cases\" => 5509,\"Date\" => \"2020-01-28T00:00:00Z\",\"Country\" => \"China\")\n",
       " Dict{String,Any}(\"CountryCode\" => \"\",\"Lon\" => \"0\",\"Status\" => \"confirmed\",\"Lat\" => \"0\",\"Cases\" => 6087,\"Date\" => \"2020-01-29T00:00:00Z\",\"Country\" => \"China\")\n",
       " Dict{String,Any}(\"CountryCode\" => \"\",\"Lon\" => \"0\",\"Status\" => \"confirmed\",\"Lat\" => \"0\",\"Cases\" => 8141,\"Date\" => \"2020-01-30T00:00:00Z\",\"Country\" => \"China\")\n",
       " Dict{String,Any}(\"CountryCode\" => \"\",\"Lon\" => \"0\",\"Status\" => \"confirmed\",\"Lat\" => \"0\",\"Cases\" => 9802,\"Date\" => \"2020-01-31T00:00:00Z\",\"Country\" => \"China\")\n",
       " Dict{String,Any}(\"CountryCode\" => \"\",\"Lon\" => \"0\",\"Status\" => \"confirmed\",\"Lat\" => \"0\",\"Cases\" => 11891,\"Date\" => \"2020-02-01T00:00:00Z\",\"Country\" => \"China\")\n",
       " Dict{String,Any}(\"CountryCode\" => \"\",\"Lon\" => \"0\",\"Status\" => \"confirmed\",\"Lat\" => \"0\",\"Cases\" => 16630,\"Date\" => \"2020-02-02T00:00:00Z\",\"Country\" => \"China\")\n",
       " Dict{String,Any}(\"CountryCode\" => \"\",\"Lon\" => \"0\",\"Status\" => \"confirmed\",\"Lat\" => \"0\",\"Cases\" => 19716,\"Date\" => \"2020-02-03T00:00:00Z\",\"Country\" => \"China\")\n",
       " ⋮\n",
       " Dict{String,Any}(\"CountryCode\" => \"\",\"Lon\" => \"0\",\"Status\" => \"confirmed\",\"Lat\" => \"0\",\"Cases\" => 81782,\"Date\" => \"2020-03-26T00:00:00Z\",\"Country\" => \"China\")\n",
       " Dict{String,Any}(\"CountryCode\" => \"\",\"Lon\" => \"0\",\"Status\" => \"confirmed\",\"Lat\" => \"0\",\"Cases\" => 81897,\"Date\" => \"2020-03-27T00:00:00Z\",\"Country\" => \"China\")\n",
       " Dict{String,Any}(\"CountryCode\" => \"\",\"Lon\" => \"0\",\"Status\" => \"confirmed\",\"Lat\" => \"0\",\"Cases\" => 81999,\"Date\" => \"2020-03-28T00:00:00Z\",\"Country\" => \"China\")\n",
       " Dict{String,Any}(\"CountryCode\" => \"\",\"Lon\" => \"0\",\"Status\" => \"confirmed\",\"Lat\" => \"0\",\"Cases\" => 82122,\"Date\" => \"2020-03-29T00:00:00Z\",\"Country\" => \"China\")\n",
       " Dict{String,Any}(\"CountryCode\" => \"\",\"Lon\" => \"0\",\"Status\" => \"confirmed\",\"Lat\" => \"0\",\"Cases\" => 82198,\"Date\" => \"2020-03-30T00:00:00Z\",\"Country\" => \"China\")\n",
       " Dict{String,Any}(\"CountryCode\" => \"\",\"Lon\" => \"0\",\"Status\" => \"confirmed\",\"Lat\" => \"0\",\"Cases\" => 82279,\"Date\" => \"2020-03-31T00:00:00Z\",\"Country\" => \"China\")\n",
       " Dict{String,Any}(\"CountryCode\" => \"\",\"Lon\" => \"0\",\"Status\" => \"confirmed\",\"Lat\" => \"0\",\"Cases\" => 82361,\"Date\" => \"2020-04-01T00:00:00Z\",\"Country\" => \"China\")\n",
       " Dict{String,Any}(\"CountryCode\" => \"\",\"Lon\" => \"0\",\"Status\" => \"confirmed\",\"Lat\" => \"0\",\"Cases\" => 82432,\"Date\" => \"2020-04-02T00:00:00Z\",\"Country\" => \"China\")\n",
       " Dict{String,Any}(\"CountryCode\" => \"\",\"Lon\" => \"0\",\"Status\" => \"confirmed\",\"Lat\" => \"0\",\"Cases\" => 82511,\"Date\" => \"2020-04-03T00:00:00Z\",\"Country\" => \"China\")\n",
       " Dict{String,Any}(\"CountryCode\" => \"\",\"Lon\" => \"0\",\"Status\" => \"confirmed\",\"Lat\" => \"0\",\"Cases\" => 82543,\"Date\" => \"2020-04-04T00:00:00Z\",\"Country\" => \"China\")\n",
       " Dict{String,Any}(\"CountryCode\" => \"\",\"Lon\" => \"0\",\"Status\" => \"confirmed\",\"Lat\" => \"0\",\"Cases\" => 82602,\"Date\" => \"2020-04-05T00:00:00Z\",\"Country\" => \"China\")\n",
       " Dict{String,Any}(\"CountryCode\" => \"\",\"Lon\" => \"0\",\"Status\" => \"confirmed\",\"Lat\" => \"0\",\"Cases\" => 82665,\"Date\" => \"2020-04-06T00:00:00Z\",\"Country\" => \"China\")"
      ]
     },
     "execution_count": 3,
     "metadata": {},
     "output_type": "execute_result"
    }
   ],
   "source": [
    "# Transformar Datos para poder manejarlos\n",
    "data_mex = JSON.parse(String(rmex.body))\n",
    "data_ita = JSON.parse(String(rita.body))\n",
    "data_us = JSON.parse(String(rus.body))\n",
    "data_bra = JSON.parse(String(rbra.body))\n",
    "data_spa = JSON.parse(String(rspa.body))\n",
    "data_kor = JSON.parse(String(rkor.body))\n",
    "data_chi = JSON.parse(String(rchi.body))"
   ]
  },
  {
   "cell_type": "code",
   "execution_count": 4,
   "metadata": {},
   "outputs": [
    {
     "name": "stdout",
     "output_type": "stream",
     "text": [
      "Done\n"
     ]
    }
   ],
   "source": [
    "cases_mex = []\n",
    "days_mex = []\n",
    "i = 1\n",
    "for (value) in data_mex\n",
    "    append!( cases_mex, value[\"Cases\"] )\n",
    "    append!(days_mex,i)\n",
    "    i += 1\n",
    "end\n",
    "println(\"Done\")"
   ]
  },
  {
   "cell_type": "code",
   "execution_count": 5,
   "metadata": {},
   "outputs": [
    {
     "name": "stdout",
     "output_type": "stream",
     "text": [
      "Done\n"
     ]
    }
   ],
   "source": [
    "cases_bra = []\n",
    "days_bra = []\n",
    "i = 1\n",
    "for (value) in data_bra\n",
    "    append!( cases_bra, value[\"Cases\"] )\n",
    "    append!(days_bra,i)\n",
    "    i += 1\n",
    "end\n",
    "println(\"Done\")"
   ]
  },
  {
   "cell_type": "code",
   "execution_count": 6,
   "metadata": {},
   "outputs": [
    {
     "name": "stdout",
     "output_type": "stream",
     "text": [
      "Done\n"
     ]
    }
   ],
   "source": [
    "cases_ita = []\n",
    "days_ita = []\n",
    "i = 1\n",
    "for (value) in data_ita\n",
    "    append!( cases_ita, value[\"Cases\"] )\n",
    "    append!(days_ita,i)\n",
    "    i += 1\n",
    "end\n",
    "println(\"Done\")"
   ]
  },
  {
   "cell_type": "code",
   "execution_count": 7,
   "metadata": {},
   "outputs": [
    {
     "name": "stdout",
     "output_type": "stream",
     "text": [
      "Done\n"
     ]
    }
   ],
   "source": [
    "cases_us = []\n",
    "days_us = []\n",
    "i = 1\n",
    "for (value) in data_us\n",
    "    append!( cases_us, value[\"Cases\"] )\n",
    "    append!(days_us,i)\n",
    "    i += 1\n",
    "end\n",
    "println(\"Done\")"
   ]
  },
  {
   "cell_type": "code",
   "execution_count": 8,
   "metadata": {},
   "outputs": [
    {
     "name": "stdout",
     "output_type": "stream",
     "text": [
      "Done\n"
     ]
    }
   ],
   "source": [
    "cases_spa = []\n",
    "days_spa = []\n",
    "i = 1\n",
    "for (value) in data_spa\n",
    "    append!( cases_spa, value[\"Cases\"] )\n",
    "    append!(days_spa,i)\n",
    "    i += 1\n",
    "end\n",
    "println(\"Done\")"
   ]
  },
  {
   "cell_type": "code",
   "execution_count": 9,
   "metadata": {},
   "outputs": [
    {
     "name": "stdout",
     "output_type": "stream",
     "text": [
      "Done\n"
     ]
    }
   ],
   "source": [
    "cases_kor = []\n",
    "days_kor = []\n",
    "i = 1\n",
    "for (value) in data_kor\n",
    "    append!( cases_kor, value[\"Cases\"] )\n",
    "    append!(days_kor,i)\n",
    "    i += 1\n",
    "end\n",
    "println(\"Done\")"
   ]
  },
  {
   "cell_type": "code",
   "execution_count": 10,
   "metadata": {},
   "outputs": [
    {
     "name": "stdout",
     "output_type": "stream",
     "text": [
      "Done\n"
     ]
    }
   ],
   "source": [
    "cases_chi = []\n",
    "days_chi = []\n",
    "i = 1\n",
    "for (value) in data_chi\n",
    "    append!( cases_chi, value[\"Cases\"] )\n",
    "    append!(days_chi,i)\n",
    "    i += 1\n",
    "end\n",
    "println(\"Done\")"
   ]
  },
  {
   "cell_type": "code",
   "execution_count": null,
   "metadata": {},
   "outputs": [],
   "source": [
    "Color = \"red\"\n",
    "set_default_plot_size(30cm, 10cm)\n",
    "p = plot(Guide.manual_color_key(\"Country\", [\"Mexico\", \"Italia\",\"Brasil\",\"USA\",\"Spain\",\"Korea\",\"China\"], [\"gold\", \"red\",\"blue\",\"green\",\"pink\",\"black\",\"purple\"]))\n",
    "push!(p, layer(x=days_mex, y=cases_mex , color=[colorant\"gold\"]),Scale.y_log10,Geom.point)\n",
    "push!(p, layer(x=days_ita, y=cases_ita,  color=[colorant\"red\"]),Scale.y_log10,Geom.point)\n",
    "push!(p, layer(x=days_bra, y=cases_bra,  color=[colorant\"blue\"]),Scale.y_log10,Geom.point)\n",
    "push!(p, layer(x=days_us, y=cases_us,   color=[colorant\"green\"]),Scale.y_log10,Geom.point)\n",
    "push!(p, layer(x=days_spa, y=cases_spa,   color=[colorant\"pink\"]),Scale.y_log10,Geom.point)\n",
    "push!(p, layer(x=days_kor, y=cases_kor,   color=[colorant\"black\"]),Scale.y_log10,Geom.point)\n",
    "push!(p, layer(x=days_chi, y=cases_chi,   color=[colorant\"purple\"]),Scale.y_log10,Geom.point)\n",
    "push!(p, Guide.title(\"Covid 19 - MEX Curve\"))\n",
    "push!(p,Guide.ylabel(\"Cases\"))\n",
    "push!(p,Guide.xlabel(\"Days\"))"
   ]
  },
  {
   "cell_type": "code",
   "execution_count": null,
   "metadata": {},
   "outputs": [],
   "source": []
  }
 ],
 "metadata": {
  "kernelspec": {
   "display_name": "Julia 1.4.0",
   "language": "julia",
   "name": "julia-1.4"
  },
  "language_info": {
   "file_extension": ".jl",
   "mimetype": "application/julia",
   "name": "julia",
   "version": "1.4.0"
  }
 },
 "nbformat": 4,
 "nbformat_minor": 4
}
